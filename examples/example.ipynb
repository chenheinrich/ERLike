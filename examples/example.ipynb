{
 "cells": [
  {
   "cell_type": "markdown",
   "metadata": {},
   "source": [
    "# RELIKE - Reionization Effective Likelihood "
   ]
  },
  {
   "cell_type": "markdown",
   "metadata": {},
   "source": [
    "## Example 1. Comparing The Likelihood Ratio of Tanh Models "
   ]
  },
  {
   "cell_type": "markdown",
   "metadata": {},
   "source": [
    "### 1. Create a PC object which contains all PC related operations. "
   ]
  },
  {
   "cell_type": "markdown",
   "metadata": {},
   "source": [
    "Create a PC object using `relike.PC()`. The ionization fraction can be fully described as $x_e(z) = x_e^{\\rm fid}(z) + \\sum_{j=1}^{n_{\\rm PC}} m_j S_j(z)$ with all $n_{\\rm PC} = 95$ PCs, but only $n_{\\rm PC} = 5$ are needed to describe within cosmic variance, the observational impact of any model between $6 < z < 30$ on the low-$\\ell$ CMB polarization power spectrum $C_l^{EE}$. To plot out the first 5 PC functions $S_j(z)$ and the fiducial model, use `pc.plot_pc()`."
   ]
  },
  {
   "cell_type": "code",
   "execution_count": 1,
   "metadata": {},
   "outputs": [
    {
     "data": {
      "image/png": "[encoded data removed]",
      "text/plain": [
       "<Figure size 432x288 with 1 Axes>"
      ]
     },
     "metadata": {
      "needs_background": "light"
     },
     "output_type": "display_data"
    }
   ],
   "source": [
    "import relike\n",
    "pc = relike.PC()\n",
    "pc.plot_pc()"
   ]
  },
  {
   "cell_type": "markdown",
   "metadata": {},
   "source": [
    "Note that the PC functions are linearly interpolated between the vertical lines (showing bin width $dz = 0.25$). We interpolate $S_j(z)$ to 0 on either side of $6 < z < 30$; and for the fiducial $x_e^{\\rm fid}(z)$ function, it is interpolated to 0 for $z \\leq 30$ and to fully ionized Universe for $z \\leq 6$, where fully ionized here means, fully ionized hydrogen and singly helium ionized for all of $z \\leq6$, with the second helium ionization occuring at $z = 3.5$."
   ]
  },
  {
   "cell_type": "markdown",
   "metadata": {},
   "source": [
    "### 2. Create a $x_e(z)$ function and get its PC amplitudes $m_j$'s. "
   ]
  },
  {
   "cell_type": "markdown",
   "metadata": {},
   "source": [
    "Here we make use a provided class `TanhModel` in `relike`, but you can use any python function defined on $6 < z < 30$."
   ]
  },
  {
   "cell_type": "code",
   "execution_count": 2,
   "metadata": {},
   "outputs": [
    {
     "name": "stdout",
     "output_type": "stream",
     "text": [
      "mjs = [-0.11712834 -0.09884358  0.21770627 -0.22767822  0.1037556 ]\n"
     ]
    }
   ],
   "source": [
    "tanh_model = relike.TanhModel()\n",
    "xe_func = tanh_model.get_xe_func(zre=10.0) \n",
    "\n",
    "mjs = pc.get_mjs(xe_func)\n",
    "print('mjs = {}'.format(mjs))"
   ]
  },
  {
   "cell_type": "markdown",
   "metadata": {},
   "source": [
    "**BE CAREFUL**: We want the $x_e(z)$ model to be fully ionized by 6, so in the tanh model, this means that we want to take into account the transition width of the tanh function in this model $dz = 0.015(1+z) \\sim 0.1$ around $z = 6$, we cannot use this model with $z_{\\rm re} < 6.1$ for inferring the likelihood with PCs."
   ]
  },
  {
   "cell_type": "markdown",
   "metadata": {},
   "source": [
    "### 3. Get the effective likelihood for your $x_e(z)$ model. \n",
    "This python package supports the Gaussian likelihood mode only , which was shown to be good enough for typical models in Heinrich & Hu 2021 [add arxiv number]. \n",
    "Note: The kernel density estimate (KDE) mode is not supported here, but is available in our CosmoMC implementation in Fortran."
   ]
  },
  {
   "cell_type": "code",
   "execution_count": 3,
   "metadata": {},
   "outputs": [
    {
     "name": "stdout",
     "output_type": "stream",
     "text": [
      "loglike = -4.902806303700334\n"
     ]
    }
   ],
   "source": [
    "gauss_like = relike.GaussianLikelihood()\n",
    "loglike = gauss_like.get_loglike(mjs)\n",
    "print('loglike = {}'.format(loglike))"
   ]
  },
  {
   "cell_type": "markdown",
   "metadata": {},
   "source": [
    "Note that we have normalized the `loglike` value to the best-fit tanh model in Planck 2018.  "
   ]
  },
  {
   "cell_type": "code",
   "execution_count": 12,
   "metadata": {},
   "outputs": [
    {
     "name": "stdout",
     "output_type": "stream",
     "text": [
      "loglike_bf = 0.0\n"
     ]
    }
   ],
   "source": [
    "xe_func_bf = tanh_model.get_xe_func(zre=8.1)\n",
    "mjs_bf = pc.get_mjs(xe_func_bf)\n",
    "loglike_bf = gauss_like.get_loglike(mjs_bf)\n",
    "print('loglike_bf = {}'.format(loglike_bf))"
   ]
  },
  {
   "cell_type": "markdown",
   "metadata": {},
   "source": [
    "So you can directly get a sense of how well your model fit by comparison via a likelihood ratio or $\\Delta \\chi^2$:"
   ]
  },
  {
   "cell_type": "code",
   "execution_count": 21,
   "metadata": {},
   "outputs": [
    {
     "name": "stdout",
     "output_type": "stream",
     "text": [
      "The likelihood ratio between my model (tanh zre = 10.0) and the best-fit tanh model (zre = 8.1) is: 0.007425714992076272\n",
      "My model (tanh zre = 10.0) is worse than the best-fit tanh model (zre = 8.1) by a delta chi2 of: 9.805612607400668\n"
     ]
    }
   ],
   "source": [
    "likelihood_ratio = np.exp(loglike)\n",
    "print('The likelihood ratio between my model (tanh zre = 10.0) and the best-fit tanh model (zre = 8.1) is: {}'.format(likelihood_ratio))\n",
    "\n",
    "delta_chi2 = -2.0 * (loglike)\n",
    "print('My model (tanh zre = 10.0) is worse than the best-fit tanh model (zre = 8.1) by a delta chi2 of: {}'.format(delta_chi2))\n"
   ]
  },
  {
   "cell_type": "markdown",
   "metadata": {},
   "source": [
    "Note that the best-fit tanh model is not the best-fit model in entire space of physical models, so you may find a model that fits slightly better than tanh in Planck 2018 (e.g. see our two-step model in Heinrich & Hu 2021). "
   ]
  },
  {
   "cell_type": "markdown",
   "metadata": {},
   "source": [
    "## Example 2. Plot posterior for an 1-parameter model "
   ]
  },
  {
   "cell_type": "markdown",
   "metadata": {},
   "source": [
    "### 1. Obtain likelihoods for a list of tau values"
   ]
  },
  {
   "cell_type": "code",
   "execution_count": 22,
   "metadata": {},
   "outputs": [],
   "source": [
    "import relike\n",
    "import numpy as np\n",
    "\n",
    "pc = relike.PC()\n",
    "use_fiducial_cosmology = True\n",
    "gauss_like = relike.GaussianLikelihood()\n",
    "\n",
    "zre_values = np.linspace(6.1, 10.5, 101)\n",
    "tau_values = np.zeros_like(zre_values)\n",
    "likelihood = np.zeros_like(zre_values)\n",
    "\n",
    "for i, zre in enumerate(zre_values):\n",
    "    tanh_model = relike.TanhModel()\n",
    "    xe_func = tanh_model.get_xe_func(zre=zre)\n",
    "    mjs = pc.get_mjs(xe_func)\n",
    "    tau_values[i] = pc.get_tau(mjs)\n",
    "    likelihood[i] = np.exp(gauss_like.get_loglike(mjs))"
   ]
  },
  {
   "cell_type": "markdown",
   "metadata": {},
   "source": [
    "Note that we are using `pc.get_tau` to obtain the PC estimates of $\\tau$ for each tanh model of a given $z_{\\rm re}$. These are not the same as integrating the exact $x_e(z)$, but gives accurate enough estimate $\\tau$."
   ]
  },
  {
   "cell_type": "markdown",
   "metadata": {},
   "source": [
    "### 2. Assuming flat prior in $\\tau$, plot its posterior"
   ]
  },
  {
   "cell_type": "markdown",
   "metadata": {},
   "source": [
    "Note that by plotting directly the normalized likelihoods as the posterior, we are assuming a flat prior in the parameter of interest, namely $\\tau$ here. Recall that this is a direct evaluation of the posterior values, not a MCMC sampling. To do that, consider connecting the python relike to a sampler such as Cobaya/Cosmosis, or use our provided CosmoMC-relike package in the same repo."
   ]
  },
  {
   "cell_type": "code",
   "execution_count": 8,
   "metadata": {},
   "outputs": [
    {
     "data": {
      "text/plain": [
       "<matplotlib.legend.Legend at 0x7fe8a05755b0>"
      ]
     },
     "execution_count": 8,
     "metadata": {},
     "output_type": "execute_result"
    },
    {
     "data": {
      "image/png": "[encoded data removed]",
      "text/plain": [
       "<Figure size 432x288 with 1 Axes>"
      ]
     },
     "metadata": {
      "needs_background": "light"
     },
     "output_type": "display_data"
    }
   ],
   "source": [
    "import matplotlib.pyplot as plt\n",
    "\n",
    "fig, ax = plt.subplots()\n",
    "ax.plot(tau_values, likelihood/np.max(likelihood), label = 'RELIKE (direct eval.)')\n",
    "ax.set_xlabel(r'$\\tau$')\n",
    "ax.set_ylabel(r'$P(\\tau)$')\n",
    "ax.set_xlim([tau_values[0], tau_values[-1]])\n",
    "\n",
    "import os\n",
    "example_dir = os.getcwd()\n",
    "fn = 'tau_posterior_pl18_tanh_pliklite_srollv2_dz_auto.dat'\n",
    "fn = os.path.join(example_dir, 'data/', fn)\n",
    "data = np.genfromtxt(fn)\n",
    "ax.plot(data[:,0], data[:,1], label = 'Exact (MCMC sampling)')\n",
    "\n",
    "ax.legend()"
   ]
  },
  {
   "cell_type": "markdown",
   "metadata": {},
   "source": [
    "Now you can use any model of $x_e(z)$ that you want and plot its parameter posterior quickly using `relike`! For high dimensional parameter space, we recommend sampling using a MCMC sampler, so that you can also obtain marginalized posterior distributions easily using for example the `getdist` package. Alternatively, you can write your own code for deriving those statistics from an evaluation of the posterior on a grid of parameter values by using the `relike` python package as shown above. "
   ]
  },
  {
   "cell_type": "markdown",
   "metadata": {},
   "source": []
  }
 ],
 "metadata": {
  "kernelspec": {
   "display_name": "Python 3",
   "language": "python",
   "name": "python3"
  },
  "language_info": {
   "codemirror_mode": {
    "name": "ipython",
    "version": 3
   },
   "file_extension": ".py",
   "mimetype": "text/x-python",
   "name": "python",
   "nbconvert_exporter": "python",
   "pygments_lexer": "ipython3",
   "version": "3.8.3"
  }
 },
 "nbformat": 4,
 "nbformat_minor": 2
}
